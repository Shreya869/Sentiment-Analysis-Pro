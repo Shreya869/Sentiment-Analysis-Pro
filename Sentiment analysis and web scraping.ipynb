{
 "cells": [
  {
   "cell_type": "code",
   "execution_count": 1,
   "metadata": {},
   "outputs": [
    {
     "name": "stdout",
     "output_type": "stream",
     "text": [
      "The laptop is happy with students\n",
      "not happy with the delivery.\n",
      "This is the best laptop.\n",
      "Not very happy with the delivery.\n",
      "It looks gorgeous but touch pad is not working.\n",
      "product is not very efficient.\n",
      "nice laptop.\n"
     ]
    }
   ],
   "source": [
    "from bs4 import BeautifulSoup\n",
    "html_file=open('web_scraping.html','r')\n",
    "page=html_file.read()\n",
    "\n",
    "#Instance of BeautifulSoup\n",
    "soup=BeautifulSoup(page,'html.parser')\n",
    "\n",
    "#Look for p tag\n",
    "reviews=soup.find_all('p')\n",
    "\n",
    "#Print each review\n",
    "for p in reviews:\n",
    "    print(p.get_text())"
   ]
  },
  {
   "cell_type": "code",
   "execution_count": 3,
   "metadata": {},
   "outputs": [
    {
     "name": "stdout",
     "output_type": "stream",
     "text": [
      "Collecting textblob\n",
      "  Downloading textblob-0.15.3-py2.py3-none-any.whl (636 kB)\n",
      "Requirement already satisfied: nltk>=3.1 in f:\\anaconda\\lib\\site-packages (from textblob) (3.4.5)\n",
      "Requirement already satisfied: six in f:\\anaconda\\lib\\site-packages (from nltk>=3.1->textblob) (1.14.0)\n",
      "Installing collected packages: textblob\n",
      "Successfully installed textblob-0.15.3\n"
     ]
    }
   ],
   "source": [
    "!pip install textblob  "
   ]
  },
  {
   "cell_type": "code",
   "execution_count": 4,
   "metadata": {},
   "outputs": [
    {
     "name": "stdout",
     "output_type": "stream",
     "text": [
      "Positive Review:  4\n",
      "Negative Review:  3\n"
     ]
    }
   ],
   "source": [
    "#Use the reviews for sentiment analysis\n",
    "#Import Textblob\n",
    "from textblob import TextBlob\n",
    "positive, negative=0,0\n",
    "#Find sentiment of each review\n",
    "for p in reviews:\n",
    "    text=p.get_text()\n",
    "    sentiment=TextBlob(text).sentiment.polarity\n",
    "    if(sentiment>=0):\n",
    "        positive+=1\n",
    "    else:\n",
    "        negative+=1\n",
    "        \n",
    "print(\"Positive Review: \", positive)\n",
    "print(\"Negative Review: \", negative)\n",
    "\n"
   ]
  },
  {
   "cell_type": "code",
   "execution_count": null,
   "metadata": {},
   "outputs": [],
   "source": []
  }
 ],
 "metadata": {
  "kernelspec": {
   "display_name": "Python 3",
   "language": "python",
   "name": "python3"
  },
  "language_info": {
   "codemirror_mode": {
    "name": "ipython",
    "version": 3
   },
   "file_extension": ".py",
   "mimetype": "text/x-python",
   "name": "python",
   "nbconvert_exporter": "python",
   "pygments_lexer": "ipython3",
   "version": "3.7.6"
  }
 },
 "nbformat": 4,
 "nbformat_minor": 4
}
